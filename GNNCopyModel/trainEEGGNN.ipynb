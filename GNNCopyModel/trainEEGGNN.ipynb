{
 "cells": [
  {
   "cell_type": "code",
   "execution_count": 1,
   "metadata": {},
   "outputs": [],
   "source": [
    "# Try to load dataset\n",
    "from joblib import load\n",
    "\n",
    "features_path = \"C:/Users/lokix/Desktop/figshare_upload/psd_features_data_X\"\n",
    "labels_path = \"C:/Users/lokix/Desktop/figshare_upload/labels_y\"\n",
    "master_path = \"C:/Users/lokix/Desktop/figshare_upload/master_metadata_index.csv\"\n",
    "\n",
    "X = load(features_path, mmap_mode=\"r\")\n",
    "y = load(labels_path, mmap_mode=\"r\")"
   ]
  },
  {
   "cell_type": "code",
   "execution_count": 2,
   "metadata": {},
   "outputs": [],
   "source": [
    "import torch\n",
    "import pandas as pd\n",
    "import numpy as np\n",
    "from EEGDataset import EEGDataset\n",
    "from GNNModel import EEGGNN\n",
    "from torchvision.transforms import Compose, ToTensor\n",
    "from sklearn.model_selection import train_test_split\n",
    "from torch_geometric.loader import DataLoader"
   ]
  },
  {
   "cell_type": "code",
   "execution_count": 3,
   "metadata": {},
   "outputs": [
    {
     "name": "stderr",
     "output_type": "stream",
     "text": [
      "C:\\Users\\lokix\\AppData\\Local\\Temp\\ipykernel_13032\\1487538665.py:4: DtypeWarning: Columns (0) have mixed types. Specify dtype option on import or set low_memory=False.\n",
      "  MASTER_DATASET_INDEX = pd.read_csv(master_path)\n"
     ]
    }
   ],
   "source": [
    "SFREQ = 250.0\n",
    "SEED = 42\n",
    "\n",
    "MASTER_DATASET_INDEX = pd.read_csv(master_path)\n",
    "subjects = MASTER_DATASET_INDEX[\"patient_ID\"].astype(\"str\").unique()\n",
    "train_subjects, test_subjects = train_test_split(subjects, test_size=0.30, random_state=SEED)"
   ]
  },
  {
   "cell_type": "code",
   "execution_count": 4,
   "metadata": {},
   "outputs": [],
   "source": [
    "heldout_train_indices = MASTER_DATASET_INDEX.index[MASTER_DATASET_INDEX[\"patient_ID\"].astype(\"str\").isin(train_subjects)].tolist()\n",
    "heldout_test_indices = MASTER_DATASET_INDEX.index[MASTER_DATASET_INDEX[\"patient_ID\"].astype(\"str\").isin(test_subjects)].tolist()\n",
    "\n",
    "train_dataset = EEGDataset(X=X,\n",
    "                     y=y,\n",
    "                     indices=heldout_train_indices,\n",
    "                     loader_type=\"heldout_test\",\n",
    "                     sfreq=SFREQ,\n",
    "                     transform=Compose([ToTensor()]))\n",
    "\n",
    "test_dataset = EEGDataset(X=X,\n",
    "                     y=y,\n",
    "                     indices=heldout_test_indices,\n",
    "                     loader_type=\"heldout_test\",\n",
    "                     sfreq=SFREQ,\n",
    "                     transform=Compose([ToTensor()]))\n"
   ]
  },
  {
   "cell_type": "code",
   "execution_count": 7,
   "metadata": {},
   "outputs": [],
   "source": [
    "BATCH_SIZE = 8\n",
    "NUM_WORKERS = 0\n",
    "PIN_MEMORY = True\n",
    "\n",
    "train_batches = DataLoader(dataset=train_dataset,\n",
    "                           batch_size=BATCH_SIZE,\n",
    "                           shuffle=False,\n",
    "                           num_workers=NUM_WORKERS,\n",
    "                           pin_memory=PIN_MEMORY)\n",
    "\n",
    "test_batches = DataLoader(dataset=test_dataset,\n",
    "                          batch_size=BATCH_SIZE,\n",
    "                          shuffle=False,\n",
    "                          num_workers=NUM_WORKERS,\n",
    "                          pin_memory=PIN_MEMORY)\n"
   ]
  },
  {
   "cell_type": "code",
   "execution_count": 8,
   "metadata": {},
   "outputs": [
    {
     "ename": "IndexError",
     "evalue": "index 23809 is out of bounds for axis 0 with size 23794",
     "output_type": "error",
     "traceback": [
      "\u001b[1;31m---------------------------------------------------------------------------\u001b[0m",
      "\u001b[1;31mIndexError\u001b[0m                                Traceback (most recent call last)",
      "\u001b[1;32mc:\\Users\\lokix\\OneDrive\\Documents\\univsersidad\\MASTER\\1B\\TFM\\src\\GNNCopyModel\\trainEEGGNN.ipynb Cell 6'\u001b[0m in \u001b[0;36m<cell line: 33>\u001b[1;34m()\u001b[0m\n\u001b[0;32m     <a href='vscode-notebook-cell:/c%3A/Users/lokix/OneDrive/Documents/univsersidad/MASTER/1B/TFM/src/GNNCopyModel/trainEEGGNN.ipynb#ch0000005?line=28'>29</a>\u001b[0m     \u001b[39mreturn\u001b[39;00m correct \u001b[39m/\u001b[39m \u001b[39mlen\u001b[39m(\n\u001b[0;32m     <a href='vscode-notebook-cell:/c%3A/Users/lokix/OneDrive/Documents/univsersidad/MASTER/1B/TFM/src/GNNCopyModel/trainEEGGNN.ipynb#ch0000005?line=29'>30</a>\u001b[0m         loader\u001b[39m.\u001b[39mdataset)  \u001b[39m# Derive ratio of correct predictions.\u001b[39;00m\n\u001b[0;32m     <a href='vscode-notebook-cell:/c%3A/Users/lokix/OneDrive/Documents/univsersidad/MASTER/1B/TFM/src/GNNCopyModel/trainEEGGNN.ipynb#ch0000005?line=32'>33</a>\u001b[0m \u001b[39mfor\u001b[39;00m epoch \u001b[39min\u001b[39;00m \u001b[39mrange\u001b[39m(\u001b[39m2\u001b[39m):\n\u001b[1;32m---> <a href='vscode-notebook-cell:/c%3A/Users/lokix/OneDrive/Documents/univsersidad/MASTER/1B/TFM/src/GNNCopyModel/trainEEGGNN.ipynb#ch0000005?line=33'>34</a>\u001b[0m     train()\n\u001b[0;32m     <a href='vscode-notebook-cell:/c%3A/Users/lokix/OneDrive/Documents/univsersidad/MASTER/1B/TFM/src/GNNCopyModel/trainEEGGNN.ipynb#ch0000005?line=34'>35</a>\u001b[0m     train_acc \u001b[39m=\u001b[39m test(train_batches)\n\u001b[0;32m     <a href='vscode-notebook-cell:/c%3A/Users/lokix/OneDrive/Documents/univsersidad/MASTER/1B/TFM/src/GNNCopyModel/trainEEGGNN.ipynb#ch0000005?line=35'>36</a>\u001b[0m     test_acc \u001b[39m=\u001b[39m test(test_batches)\n",
      "\u001b[1;32mc:\\Users\\lokix\\OneDrive\\Documents\\univsersidad\\MASTER\\1B\\TFM\\src\\GNNCopyModel\\trainEEGGNN.ipynb Cell 6'\u001b[0m in \u001b[0;36mtrain\u001b[1;34m()\u001b[0m\n\u001b[0;32m      <a href='vscode-notebook-cell:/c%3A/Users/lokix/OneDrive/Documents/univsersidad/MASTER/1B/TFM/src/GNNCopyModel/trainEEGGNN.ipynb#ch0000005?line=6'>7</a>\u001b[0m \u001b[39mdef\u001b[39;00m \u001b[39mtrain\u001b[39m():\n\u001b[0;32m      <a href='vscode-notebook-cell:/c%3A/Users/lokix/OneDrive/Documents/univsersidad/MASTER/1B/TFM/src/GNNCopyModel/trainEEGGNN.ipynb#ch0000005?line=7'>8</a>\u001b[0m     model\u001b[39m.\u001b[39mtrain()\n\u001b[1;32m---> <a href='vscode-notebook-cell:/c%3A/Users/lokix/OneDrive/Documents/univsersidad/MASTER/1B/TFM/src/GNNCopyModel/trainEEGGNN.ipynb#ch0000005?line=9'>10</a>\u001b[0m     \u001b[39mfor\u001b[39;00m data \u001b[39min\u001b[39;00m train_batches:  \u001b[39m# Iterate in batches over the training dataset.\u001b[39;00m\n\u001b[0;32m     <a href='vscode-notebook-cell:/c%3A/Users/lokix/OneDrive/Documents/univsersidad/MASTER/1B/TFM/src/GNNCopyModel/trainEEGGNN.ipynb#ch0000005?line=10'>11</a>\u001b[0m         data\u001b[39m.\u001b[39mbatch \u001b[39m=\u001b[39m data\u001b[39m.\u001b[39mbatch\u001b[39m.\u001b[39mview(data\u001b[39m.\u001b[39mbatch\u001b[39m.\u001b[39mshape[\u001b[39m0\u001b[39m], \u001b[39m-\u001b[39m\u001b[39m1\u001b[39m)\n\u001b[0;32m     <a href='vscode-notebook-cell:/c%3A/Users/lokix/OneDrive/Documents/univsersidad/MASTER/1B/TFM/src/GNNCopyModel/trainEEGGNN.ipynb#ch0000005?line=11'>12</a>\u001b[0m         out \u001b[39m=\u001b[39m model(data\u001b[39m.\u001b[39mx, data\u001b[39m.\u001b[39medge_index, data\u001b[39m.\u001b[39medge_weight,\n\u001b[0;32m     <a href='vscode-notebook-cell:/c%3A/Users/lokix/OneDrive/Documents/univsersidad/MASTER/1B/TFM/src/GNNCopyModel/trainEEGGNN.ipynb#ch0000005?line=12'>13</a>\u001b[0m                     data\u001b[39m.\u001b[39mbatch)  \u001b[39m# Perform a single forward pass.\u001b[39;00m\n",
      "File \u001b[1;32m~\\Envs\\tfm\\lib\\site-packages\\torch\\utils\\data\\dataloader.py:530\u001b[0m, in \u001b[0;36m_BaseDataLoaderIter.__next__\u001b[1;34m(self)\u001b[0m\n\u001b[0;32m    <a href='file:///c%3A/Users/lokix/Envs/tfm/lib/site-packages/torch/utils/data/dataloader.py?line=527'>528</a>\u001b[0m \u001b[39mif\u001b[39;00m \u001b[39mself\u001b[39m\u001b[39m.\u001b[39m_sampler_iter \u001b[39mis\u001b[39;00m \u001b[39mNone\u001b[39;00m:\n\u001b[0;32m    <a href='file:///c%3A/Users/lokix/Envs/tfm/lib/site-packages/torch/utils/data/dataloader.py?line=528'>529</a>\u001b[0m     \u001b[39mself\u001b[39m\u001b[39m.\u001b[39m_reset()\n\u001b[1;32m--> <a href='file:///c%3A/Users/lokix/Envs/tfm/lib/site-packages/torch/utils/data/dataloader.py?line=529'>530</a>\u001b[0m data \u001b[39m=\u001b[39m \u001b[39mself\u001b[39;49m\u001b[39m.\u001b[39;49m_next_data()\n\u001b[0;32m    <a href='file:///c%3A/Users/lokix/Envs/tfm/lib/site-packages/torch/utils/data/dataloader.py?line=530'>531</a>\u001b[0m \u001b[39mself\u001b[39m\u001b[39m.\u001b[39m_num_yielded \u001b[39m+\u001b[39m\u001b[39m=\u001b[39m \u001b[39m1\u001b[39m\n\u001b[0;32m    <a href='file:///c%3A/Users/lokix/Envs/tfm/lib/site-packages/torch/utils/data/dataloader.py?line=531'>532</a>\u001b[0m \u001b[39mif\u001b[39;00m \u001b[39mself\u001b[39m\u001b[39m.\u001b[39m_dataset_kind \u001b[39m==\u001b[39m _DatasetKind\u001b[39m.\u001b[39mIterable \u001b[39mand\u001b[39;00m \\\n\u001b[0;32m    <a href='file:///c%3A/Users/lokix/Envs/tfm/lib/site-packages/torch/utils/data/dataloader.py?line=532'>533</a>\u001b[0m         \u001b[39mself\u001b[39m\u001b[39m.\u001b[39m_IterableDataset_len_called \u001b[39mis\u001b[39;00m \u001b[39mnot\u001b[39;00m \u001b[39mNone\u001b[39;00m \u001b[39mand\u001b[39;00m \\\n\u001b[0;32m    <a href='file:///c%3A/Users/lokix/Envs/tfm/lib/site-packages/torch/utils/data/dataloader.py?line=533'>534</a>\u001b[0m         \u001b[39mself\u001b[39m\u001b[39m.\u001b[39m_num_yielded \u001b[39m>\u001b[39m \u001b[39mself\u001b[39m\u001b[39m.\u001b[39m_IterableDataset_len_called:\n",
      "File \u001b[1;32m~\\Envs\\tfm\\lib\\site-packages\\torch\\utils\\data\\dataloader.py:570\u001b[0m, in \u001b[0;36m_SingleProcessDataLoaderIter._next_data\u001b[1;34m(self)\u001b[0m\n\u001b[0;32m    <a href='file:///c%3A/Users/lokix/Envs/tfm/lib/site-packages/torch/utils/data/dataloader.py?line=567'>568</a>\u001b[0m \u001b[39mdef\u001b[39;00m \u001b[39m_next_data\u001b[39m(\u001b[39mself\u001b[39m):\n\u001b[0;32m    <a href='file:///c%3A/Users/lokix/Envs/tfm/lib/site-packages/torch/utils/data/dataloader.py?line=568'>569</a>\u001b[0m     index \u001b[39m=\u001b[39m \u001b[39mself\u001b[39m\u001b[39m.\u001b[39m_next_index()  \u001b[39m# may raise StopIteration\u001b[39;00m\n\u001b[1;32m--> <a href='file:///c%3A/Users/lokix/Envs/tfm/lib/site-packages/torch/utils/data/dataloader.py?line=569'>570</a>\u001b[0m     data \u001b[39m=\u001b[39m \u001b[39mself\u001b[39;49m\u001b[39m.\u001b[39;49m_dataset_fetcher\u001b[39m.\u001b[39;49mfetch(index)  \u001b[39m# may raise StopIteration\u001b[39;00m\n\u001b[0;32m    <a href='file:///c%3A/Users/lokix/Envs/tfm/lib/site-packages/torch/utils/data/dataloader.py?line=570'>571</a>\u001b[0m     \u001b[39mif\u001b[39;00m \u001b[39mself\u001b[39m\u001b[39m.\u001b[39m_pin_memory:\n\u001b[0;32m    <a href='file:///c%3A/Users/lokix/Envs/tfm/lib/site-packages/torch/utils/data/dataloader.py?line=571'>572</a>\u001b[0m         data \u001b[39m=\u001b[39m _utils\u001b[39m.\u001b[39mpin_memory\u001b[39m.\u001b[39mpin_memory(data)\n",
      "File \u001b[1;32m~\\Envs\\tfm\\lib\\site-packages\\torch\\utils\\data\\_utils\\fetch.py:49\u001b[0m, in \u001b[0;36m_MapDatasetFetcher.fetch\u001b[1;34m(self, possibly_batched_index)\u001b[0m\n\u001b[0;32m     <a href='file:///c%3A/Users/lokix/Envs/tfm/lib/site-packages/torch/utils/data/_utils/fetch.py?line=46'>47</a>\u001b[0m \u001b[39mdef\u001b[39;00m \u001b[39mfetch\u001b[39m(\u001b[39mself\u001b[39m, possibly_batched_index):\n\u001b[0;32m     <a href='file:///c%3A/Users/lokix/Envs/tfm/lib/site-packages/torch/utils/data/_utils/fetch.py?line=47'>48</a>\u001b[0m     \u001b[39mif\u001b[39;00m \u001b[39mself\u001b[39m\u001b[39m.\u001b[39mauto_collation:\n\u001b[1;32m---> <a href='file:///c%3A/Users/lokix/Envs/tfm/lib/site-packages/torch/utils/data/_utils/fetch.py?line=48'>49</a>\u001b[0m         data \u001b[39m=\u001b[39m [\u001b[39mself\u001b[39m\u001b[39m.\u001b[39mdataset[idx] \u001b[39mfor\u001b[39;00m idx \u001b[39min\u001b[39;00m possibly_batched_index]\n\u001b[0;32m     <a href='file:///c%3A/Users/lokix/Envs/tfm/lib/site-packages/torch/utils/data/_utils/fetch.py?line=49'>50</a>\u001b[0m     \u001b[39melse\u001b[39;00m:\n\u001b[0;32m     <a href='file:///c%3A/Users/lokix/Envs/tfm/lib/site-packages/torch/utils/data/_utils/fetch.py?line=50'>51</a>\u001b[0m         data \u001b[39m=\u001b[39m \u001b[39mself\u001b[39m\u001b[39m.\u001b[39mdataset[possibly_batched_index]\n",
      "File \u001b[1;32m~\\Envs\\tfm\\lib\\site-packages\\torch\\utils\\data\\_utils\\fetch.py:49\u001b[0m, in \u001b[0;36m<listcomp>\u001b[1;34m(.0)\u001b[0m\n\u001b[0;32m     <a href='file:///c%3A/Users/lokix/Envs/tfm/lib/site-packages/torch/utils/data/_utils/fetch.py?line=46'>47</a>\u001b[0m \u001b[39mdef\u001b[39;00m \u001b[39mfetch\u001b[39m(\u001b[39mself\u001b[39m, possibly_batched_index):\n\u001b[0;32m     <a href='file:///c%3A/Users/lokix/Envs/tfm/lib/site-packages/torch/utils/data/_utils/fetch.py?line=47'>48</a>\u001b[0m     \u001b[39mif\u001b[39;00m \u001b[39mself\u001b[39m\u001b[39m.\u001b[39mauto_collation:\n\u001b[1;32m---> <a href='file:///c%3A/Users/lokix/Envs/tfm/lib/site-packages/torch/utils/data/_utils/fetch.py?line=48'>49</a>\u001b[0m         data \u001b[39m=\u001b[39m [\u001b[39mself\u001b[39;49m\u001b[39m.\u001b[39;49mdataset[idx] \u001b[39mfor\u001b[39;00m idx \u001b[39min\u001b[39;00m possibly_batched_index]\n\u001b[0;32m     <a href='file:///c%3A/Users/lokix/Envs/tfm/lib/site-packages/torch/utils/data/_utils/fetch.py?line=49'>50</a>\u001b[0m     \u001b[39melse\u001b[39;00m:\n\u001b[0;32m     <a href='file:///c%3A/Users/lokix/Envs/tfm/lib/site-packages/torch/utils/data/_utils/fetch.py?line=50'>51</a>\u001b[0m         data \u001b[39m=\u001b[39m \u001b[39mself\u001b[39m\u001b[39m.\u001b[39mdataset[possibly_batched_index]\n",
      "File \u001b[1;32mc:\\Users\\lokix\\OneDrive\\Documents\\univsersidad\\MASTER\\1B\\TFM\\src\\GNNCopyModel\\EEGDataset.py:102\u001b[0m, in \u001b[0;36mEEGDataset.__getitem__\u001b[1;34m(self, idx)\u001b[0m\n\u001b[0;32m     <a href='file:///c%3A/Users/lokix/OneDrive/Documents/univsersidad/MASTER/1B/TFM/src/GNNCopyModel/EEGDataset.py?line=98'>99</a>\u001b[0m node_features \u001b[39m=\u001b[39m torch\u001b[39m.\u001b[39mfrom_numpy(node_features\u001b[39m.\u001b[39mreshape(\u001b[39m8\u001b[39m, \u001b[39m6\u001b[39m))\n\u001b[0;32m    <a href='file:///c%3A/Users/lokix/OneDrive/Documents/univsersidad/MASTER/1B/TFM/src/GNNCopyModel/EEGDataset.py?line=100'>101</a>\u001b[0m \u001b[39m# spectral coherence between 2 montage channels!\u001b[39;00m\n\u001b[1;32m--> <a href='file:///c%3A/Users/lokix/OneDrive/Documents/univsersidad/MASTER/1B/TFM/src/GNNCopyModel/EEGDataset.py?line=101'>102</a>\u001b[0m spec_coh_values \u001b[39m=\u001b[39m \u001b[39mself\u001b[39;49m\u001b[39m.\u001b[39;49mspec_coh_values[idx, :]\n\u001b[0;32m    <a href='file:///c%3A/Users/lokix/OneDrive/Documents/univsersidad/MASTER/1B/TFM/src/GNNCopyModel/EEGDataset.py?line=102'>103</a>\u001b[0m \u001b[39m# combine edge weights and spect coh values into one value/ one E x 1 tensor\u001b[39;00m\n\u001b[0;32m    <a href='file:///c%3A/Users/lokix/OneDrive/Documents/univsersidad/MASTER/1B/TFM/src/GNNCopyModel/EEGDataset.py?line=103'>104</a>\u001b[0m edge_weights \u001b[39m=\u001b[39m \u001b[39mself\u001b[39m\u001b[39m.\u001b[39mdistances \u001b[39m+\u001b[39m spec_coh_values\n",
      "\u001b[1;31mIndexError\u001b[0m: index 23809 is out of bounds for axis 0 with size 23794"
     ]
    }
   ],
   "source": [
    "model = EEGGNN(True, SFREQ, BATCH_SIZE)\n",
    "model = model.double()\n",
    "optimizer = torch.optim.Adam(model.parameters(), lr=0.001)\n",
    "criterion = torch.nn.CrossEntropyLoss()\n",
    "\n",
    "\n",
    "def train():\n",
    "    model.train()\n",
    "\n",
    "    for data in train_batches:  # Iterate in batches over the training dataset.\n",
    "        data.batch = data.batch.view(data.batch.shape[0], -1)\n",
    "        out = model(data.x, data.edge_index, data.edge_weight,\n",
    "                    data.batch)  # Perform a single forward pass.\n",
    "        loss = criterion(out, data.y)  # Compute the loss.\n",
    "        loss.backward()  # Derive gradients.\n",
    "        optimizer.step()  # Update parameters based on gradients.\n",
    "        optimizer.zero_grad()  # Clear gradients.\n",
    "\n",
    "\n",
    "def test(loader):\n",
    "    model.eval()\n",
    "\n",
    "    correct = 0\n",
    "    for data in loader:  # Iterate in batches over the training/test dataset.\n",
    "        out = model(data.x, data.edge_index, data.edge_weight, data.batch)\n",
    "        pred = out.argmax(dim=1)  # Use the class with highest probability.\n",
    "        correct += int(\n",
    "            (pred == data.y).sum())  # Check against ground-truth labels.\n",
    "    return correct / len(\n",
    "        loader.dataset)  # Derive ratio of correct predictions.\n",
    "\n",
    "\n",
    "for epoch in range(2):\n",
    "    train()\n",
    "    train_acc = test(train_batches)\n",
    "    test_acc = test(test_batches)\n",
    "    print(\n",
    "        f'Epoch: {epoch:03d}, Train Acc: {train_acc:.4f}, Test Acc: {test_acc:.4f}'\n",
    "    )\n"
   ]
  },
  {
   "cell_type": "code",
   "execution_count": null,
   "metadata": {},
   "outputs": [],
   "source": []
  }
 ],
 "metadata": {
  "interpreter": {
   "hash": "49828187f4dc564a08cffdc3b9732e1c7952dfdfaa36f705d81755fe28017e2e"
  },
  "kernelspec": {
   "display_name": "Python 3.9.4 ('tfm')",
   "language": "python",
   "name": "python3"
  },
  "language_info": {
   "codemirror_mode": {
    "name": "ipython",
    "version": 3
   },
   "file_extension": ".py",
   "mimetype": "text/x-python",
   "name": "python",
   "nbconvert_exporter": "python",
   "pygments_lexer": "ipython3",
   "version": "3.9.4"
  },
  "orig_nbformat": 4
 },
 "nbformat": 4,
 "nbformat_minor": 2
}
